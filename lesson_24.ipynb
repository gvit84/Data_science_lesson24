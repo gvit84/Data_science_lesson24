{
 "cells": [
  {
   "cell_type": "markdown",
   "id": "d4485e76",
   "metadata": {},
   "source": [
    "**Task_1**"
   ]
  },
  {
   "cell_type": "markdown",
   "id": "200e6cd7",
   "metadata": {},
   "source": [
    "P(A|B) = P(A) * P(B|A) / P(B) = 0.1 * 0.4 / (0.1 * 0.4 + 0.2 * 0.6) = 0.25"
   ]
  },
  {
   "cell_type": "code",
   "execution_count": 4,
   "id": "363526f1",
   "metadata": {},
   "outputs": [
    {
     "data": {
      "text/plain": [
       "0.25000000000000006"
      ]
     },
     "execution_count": 4,
     "metadata": {},
     "output_type": "execute_result"
    }
   ],
   "source": [
    "0.1 * 0.4 / (0.1 * 0.4 + 0.2 * 0.6)"
   ]
  },
  {
   "cell_type": "markdown",
   "id": "ba4811a0",
   "metadata": {},
   "source": [
    "**Імовірність того, що навмання взятий із папки документ склав перший економіст складає 25%.** "
   ]
  },
  {
   "cell_type": "markdown",
   "id": "a337dbbc",
   "metadata": {},
   "source": [
    "**Task_2**"
   ]
  },
  {
   "cell_type": "markdown",
   "id": "5a28de5f",
   "metadata": {},
   "source": [
    "Для того, щоб визначити ступінь ризику і запропонувати рішення щодо випуску і реалізації одного з наборів товарів, необхідно визначити значення дисперсії для кожного з наборів товарів. Де значення дисперсії буде менше, там і ступінь ризику буде менша. "
   ]
  },
  {
   "cell_type": "markdown",
   "id": "ad0b5190",
   "metadata": {},
   "source": [
    "$M[X] = x_1p_1 + x_2p_2 + x_3p_3 = 1000 * 0.5 + 1500 * 0.3 + 2000 * 0.2 = 1350$"
   ]
  },
  {
   "cell_type": "code",
   "execution_count": 11,
   "id": "cea4230e",
   "metadata": {},
   "outputs": [
    {
     "data": {
      "text/plain": [
       "1350.0"
      ]
     },
     "execution_count": 11,
     "metadata": {},
     "output_type": "execute_result"
    }
   ],
   "source": [
    "1000 * 0.5 + 1500 * 0.3 + 2000 * 0.2"
   ]
  },
  {
   "cell_type": "markdown",
   "id": "41da1cb1",
   "metadata": {},
   "source": [
    "$M[X^2] = x_1^2p_1 + x_2^2p_2 + x_3^2p_3 = 1000^2 * 0.5 + 1500^2 * 0.3 + 2000^2 * 0.2 = 500000 + 675000 + 800000 = 1975000$"
   ]
  },
  {
   "cell_type": "code",
   "execution_count": 13,
   "id": "d61ae4f4",
   "metadata": {},
   "outputs": [
    {
     "data": {
      "text/plain": [
       "1975000.0"
      ]
     },
     "execution_count": 13,
     "metadata": {},
     "output_type": "execute_result"
    }
   ],
   "source": [
    "1000 **2 * 0.5 + 1500 ** 2 * 0.3 + 2000 ** 2 * 0.2"
   ]
  },
  {
   "cell_type": "markdown",
   "id": "c4156bcd",
   "metadata": {},
   "source": [
    "$D[X] = M[X^2] - (M[X])^2 = 1975000 - 1350^2 = 1975000 - 1822500 = 152500$"
   ]
  },
  {
   "cell_type": "code",
   "execution_count": 14,
   "id": "962ae7e6",
   "metadata": {},
   "outputs": [
    {
     "data": {
      "text/plain": [
       "152500"
      ]
     },
     "execution_count": 14,
     "metadata": {},
     "output_type": "execute_result"
    }
   ],
   "source": [
    "1975000 - 1350 ** 2"
   ]
  },
  {
   "cell_type": "markdown",
   "id": "c8ca9d4f",
   "metadata": {},
   "source": [
    "$M[Y] = y_1p_1 + y_2p_2 + y_3p_3 = 1000 * 0.4 + 1500 * 0.4 + 1750 * 0.2 = 1350$"
   ]
  },
  {
   "cell_type": "code",
   "execution_count": 16,
   "id": "79a4a9ca",
   "metadata": {},
   "outputs": [
    {
     "data": {
      "text/plain": [
       "1350.0"
      ]
     },
     "execution_count": 16,
     "metadata": {},
     "output_type": "execute_result"
    }
   ],
   "source": [
    "1000 * 0.4 + 1500 * 0.4 + 1750 * 0.2"
   ]
  },
  {
   "cell_type": "markdown",
   "id": "438530b3",
   "metadata": {},
   "source": [
    "$M[Y^2] = y_1^2p_1 + y_2^2p_2 + y_3^2p_3 = 1000^2 * 0.4 + 1500^2 * 0.4 + 1750^2 * 0.2 = 400000 + 900000 + 612500 = 1912500$"
   ]
  },
  {
   "cell_type": "code",
   "execution_count": 17,
   "id": "f7bd861b",
   "metadata": {},
   "outputs": [
    {
     "data": {
      "text/plain": [
       "1912500.0"
      ]
     },
     "execution_count": 17,
     "metadata": {},
     "output_type": "execute_result"
    }
   ],
   "source": [
    "1000 ** 2 * 0.4 + 1500 ** 2 *0.4 + 1750 ** 2 * 0.2 "
   ]
  },
  {
   "cell_type": "markdown",
   "id": "d28fb6e9",
   "metadata": {},
   "source": [
    "$D[Y] = M[Y^2] - (M[Y])^2 = 1912500 - 1350^2 = 1912500 - 1822500 = 90000$"
   ]
  },
  {
   "cell_type": "code",
   "execution_count": 18,
   "id": "39dd830d",
   "metadata": {},
   "outputs": [
    {
     "data": {
      "text/plain": [
       "90000"
      ]
     },
     "execution_count": 18,
     "metadata": {},
     "output_type": "execute_result"
    }
   ],
   "source": [
    "1912500 - 1350 ** 2"
   ]
  },
  {
   "cell_type": "markdown",
   "id": "1353c1f9",
   "metadata": {},
   "source": [
    "Оскільки значення дисперсії по другому набору товарів є меншою, то доцільно вибрати виробництво і реалізацію другого набору товарів широкого вжитку."
   ]
  },
  {
   "cell_type": "code",
   "execution_count": null,
   "id": "c2f45b77",
   "metadata": {},
   "outputs": [],
   "source": []
  }
 ],
 "metadata": {
  "kernelspec": {
   "display_name": "Python 3 (ipykernel)",
   "language": "python",
   "name": "python3"
  },
  "language_info": {
   "codemirror_mode": {
    "name": "ipython",
    "version": 3
   },
   "file_extension": ".py",
   "mimetype": "text/x-python",
   "name": "python",
   "nbconvert_exporter": "python",
   "pygments_lexer": "ipython3",
   "version": "3.9.13"
  }
 },
 "nbformat": 4,
 "nbformat_minor": 5
}
